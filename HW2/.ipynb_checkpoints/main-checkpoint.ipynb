{
 "cells": [
  {
   "cell_type": "code",
   "execution_count": 17,
   "metadata": {
    "collapsed": false,
    "jupyter": {
     "outputs_hidden": false
    }
   },
   "outputs": [],
   "source": [
    "import shutil\n",
    "import PySimpleGUI as sg\n",
    "import numpy as np\n",
    "from PIL import Image, ImageTk\n",
    "import threading, os, time\n",
    "import warnings\n",
    "\n",
    "from upsampling import *\n",
    "import metrics as mx\n",
    "import disp2points as disp\n",
    "\n",
    "import matplotlib.pyplot as plt\n",
    "\n",
    "import filters as flt"
   ]
  },
  {
   "cell_type": "code",
   "execution_count": 2,
   "metadata": {
    "collapsed": true,
    "jupyter": {
     "outputs_hidden": true
    },
    "tags": []
   },
   "outputs": [
    {
     "ename": "TclError",
     "evalue": "no display name and no $DISPLAY environment variable",
     "output_type": "error",
     "traceback": [
      "\u001b[0;31m---------------------------------------------------------------------------\u001b[0m",
      "\u001b[0;31mTclError\u001b[0m                                  Traceback (most recent call last)",
      "\u001b[0;32m/tmp/ipykernel_11576/2863230370.py\u001b[0m in \u001b[0;36m<module>\u001b[0;34m\u001b[0m\n\u001b[1;32m     14\u001b[0m \u001b[0;31m# Event loop\u001b[0m\u001b[0;34m\u001b[0m\u001b[0;34m\u001b[0m\u001b[0;34m\u001b[0m\u001b[0m\n\u001b[1;32m     15\u001b[0m \u001b[0;32mwhile\u001b[0m \u001b[0;32mTrue\u001b[0m\u001b[0;34m:\u001b[0m\u001b[0;34m\u001b[0m\u001b[0;34m\u001b[0m\u001b[0m\n\u001b[0;32m---> 16\u001b[0;31m     \u001b[0mevent\u001b[0m\u001b[0;34m,\u001b[0m \u001b[0mvalues\u001b[0m \u001b[0;34m=\u001b[0m \u001b[0mmain_window\u001b[0m\u001b[0;34m.\u001b[0m\u001b[0mread\u001b[0m\u001b[0;34m(\u001b[0m\u001b[0;34m)\u001b[0m\u001b[0;34m\u001b[0m\u001b[0;34m\u001b[0m\u001b[0m\n\u001b[0m\u001b[1;32m     17\u001b[0m \u001b[0;34m\u001b[0m\u001b[0m\n\u001b[1;32m     18\u001b[0m     \u001b[0;32mif\u001b[0m \u001b[0mevent\u001b[0m \u001b[0;32min\u001b[0m \u001b[0;34m(\u001b[0m\u001b[0msg\u001b[0m\u001b[0;34m.\u001b[0m\u001b[0mWIN_CLOSED\u001b[0m\u001b[0;34m,\u001b[0m \u001b[0;34m'Button 1'\u001b[0m\u001b[0;34m,\u001b[0m \u001b[0;34m'Button 2'\u001b[0m\u001b[0;34m,\u001b[0m \u001b[0;34m'Button 3'\u001b[0m\u001b[0;34m)\u001b[0m\u001b[0;34m:\u001b[0m\u001b[0;34m\u001b[0m\u001b[0;34m\u001b[0m\u001b[0m\n",
      "\u001b[0;32m/opt/conda/lib/python3.7/site-packages/PySimpleGUI/PySimpleGUI.py\u001b[0m in \u001b[0;36mread\u001b[0;34m(self, timeout, timeout_key, close)\u001b[0m\n\u001b[1;32m  10073\u001b[0m         \u001b[0;32mwhile\u001b[0m \u001b[0;32mTrue\u001b[0m\u001b[0;34m:\u001b[0m\u001b[0;34m\u001b[0m\u001b[0;34m\u001b[0m\u001b[0m\n\u001b[1;32m  10074\u001b[0m             \u001b[0mWindow\u001b[0m\u001b[0;34m.\u001b[0m\u001b[0m_root_running_mainloop\u001b[0m \u001b[0;34m=\u001b[0m \u001b[0mself\u001b[0m\u001b[0;34m.\u001b[0m\u001b[0mTKroot\u001b[0m\u001b[0;34m\u001b[0m\u001b[0;34m\u001b[0m\u001b[0m\n\u001b[0;32m> 10075\u001b[0;31m             \u001b[0mresults\u001b[0m \u001b[0;34m=\u001b[0m \u001b[0mself\u001b[0m\u001b[0;34m.\u001b[0m\u001b[0m_read\u001b[0m\u001b[0;34m(\u001b[0m\u001b[0mtimeout\u001b[0m\u001b[0;34m=\u001b[0m\u001b[0mtimeout\u001b[0m\u001b[0;34m,\u001b[0m \u001b[0mtimeout_key\u001b[0m\u001b[0;34m=\u001b[0m\u001b[0mtimeout_key\u001b[0m\u001b[0;34m)\u001b[0m\u001b[0;34m\u001b[0m\u001b[0;34m\u001b[0m\u001b[0m\n\u001b[0m\u001b[1;32m  10076\u001b[0m             \u001b[0;32mif\u001b[0m \u001b[0mresults\u001b[0m \u001b[0;32mis\u001b[0m \u001b[0;32mnot\u001b[0m \u001b[0;32mNone\u001b[0m\u001b[0;34m:\u001b[0m\u001b[0;34m\u001b[0m\u001b[0;34m\u001b[0m\u001b[0m\n\u001b[1;32m  10077\u001b[0m                 \u001b[0;32mif\u001b[0m \u001b[0mresults\u001b[0m\u001b[0;34m[\u001b[0m\u001b[0;36m0\u001b[0m\u001b[0;34m]\u001b[0m \u001b[0;34m==\u001b[0m \u001b[0mDEFAULT_WINDOW_SNAPSHOT_KEY\u001b[0m\u001b[0;34m:\u001b[0m\u001b[0;34m\u001b[0m\u001b[0;34m\u001b[0m\u001b[0m\n",
      "\u001b[0;32m/opt/conda/lib/python3.7/site-packages/PySimpleGUI/PySimpleGUI.py\u001b[0m in \u001b[0;36m_read\u001b[0;34m(self, timeout, timeout_key)\u001b[0m\n\u001b[1;32m  10144\u001b[0m             \u001b[0;32mreturn\u001b[0m \u001b[0;32mNone\u001b[0m\u001b[0;34m,\u001b[0m \u001b[0;32mNone\u001b[0m\u001b[0;34m\u001b[0m\u001b[0;34m\u001b[0m\u001b[0m\n\u001b[1;32m  10145\u001b[0m         \u001b[0;32mif\u001b[0m \u001b[0;32mnot\u001b[0m \u001b[0mself\u001b[0m\u001b[0;34m.\u001b[0m\u001b[0mShown\u001b[0m\u001b[0;34m:\u001b[0m\u001b[0;34m\u001b[0m\u001b[0;34m\u001b[0m\u001b[0m\n\u001b[0;32m> 10146\u001b[0;31m             \u001b[0mself\u001b[0m\u001b[0;34m.\u001b[0m\u001b[0m_Show\u001b[0m\u001b[0;34m(\u001b[0m\u001b[0;34m)\u001b[0m\u001b[0;34m\u001b[0m\u001b[0;34m\u001b[0m\u001b[0m\n\u001b[0m\u001b[1;32m  10147\u001b[0m         \u001b[0;32melse\u001b[0m\u001b[0;34m:\u001b[0m\u001b[0;34m\u001b[0m\u001b[0;34m\u001b[0m\u001b[0m\n\u001b[1;32m  10148\u001b[0m             \u001b[0;31m# if already have a button waiting, the return previously built results\u001b[0m\u001b[0;34m\u001b[0m\u001b[0;34m\u001b[0m\u001b[0;34m\u001b[0m\u001b[0m\n",
      "\u001b[0;32m/opt/conda/lib/python3.7/site-packages/PySimpleGUI/PySimpleGUI.py\u001b[0m in \u001b[0;36m_Show\u001b[0;34m(self, non_blocking)\u001b[0m\n\u001b[1;32m   9884\u001b[0m             \u001b[0mself\u001b[0m\u001b[0;34m.\u001b[0m\u001b[0mUseDefaultFocus\u001b[0m \u001b[0;34m=\u001b[0m \u001b[0;32mFalse\u001b[0m\u001b[0;34m\u001b[0m\u001b[0;34m\u001b[0m\u001b[0m\n\u001b[1;32m   9885\u001b[0m         \u001b[0;31m# -=-=-=-=-=-=-=-=- RUN the GUI -=-=-=-=-=-=-=-=- ##\u001b[0m\u001b[0;34m\u001b[0m\u001b[0;34m\u001b[0m\u001b[0;34m\u001b[0m\u001b[0m\n\u001b[0;32m-> 9886\u001b[0;31m         \u001b[0mStartupTK\u001b[0m\u001b[0;34m(\u001b[0m\u001b[0mself\u001b[0m\u001b[0;34m)\u001b[0m\u001b[0;34m\u001b[0m\u001b[0;34m\u001b[0m\u001b[0m\n\u001b[0m\u001b[1;32m   9887\u001b[0m         \u001b[0;31m# If a button or keyboard event happened but no results have been built, build the results\u001b[0m\u001b[0;34m\u001b[0m\u001b[0;34m\u001b[0m\u001b[0;34m\u001b[0m\u001b[0m\n\u001b[1;32m   9888\u001b[0m         \u001b[0;32mif\u001b[0m \u001b[0mself\u001b[0m\u001b[0;34m.\u001b[0m\u001b[0mLastKeyboardEvent\u001b[0m \u001b[0;32mis\u001b[0m \u001b[0;32mnot\u001b[0m \u001b[0;32mNone\u001b[0m \u001b[0;32mor\u001b[0m \u001b[0mself\u001b[0m\u001b[0;34m.\u001b[0m\u001b[0mLastButtonClicked\u001b[0m \u001b[0;32mis\u001b[0m \u001b[0;32mnot\u001b[0m \u001b[0;32mNone\u001b[0m\u001b[0;34m:\u001b[0m\u001b[0;34m\u001b[0m\u001b[0;34m\u001b[0m\u001b[0m\n",
      "\u001b[0;32m/opt/conda/lib/python3.7/site-packages/PySimpleGUI/PySimpleGUI.py\u001b[0m in \u001b[0;36mStartupTK\u001b[0;34m(window)\u001b[0m\n\u001b[1;32m  16815\u001b[0m         \u001b[0;31m# if first window being created, make a throwaway, hidden master root.  This stops one user\u001b[0m\u001b[0;34m\u001b[0m\u001b[0;34m\u001b[0m\u001b[0;34m\u001b[0m\u001b[0m\n\u001b[1;32m  16816\u001b[0m         \u001b[0;31m# window from becoming the child of another user window. All windows are children of this hidden window\u001b[0m\u001b[0;34m\u001b[0m\u001b[0;34m\u001b[0m\u001b[0;34m\u001b[0m\u001b[0m\n\u001b[0;32m> 16817\u001b[0;31m         \u001b[0m_get_hidden_master_root\u001b[0m\u001b[0;34m(\u001b[0m\u001b[0;34m)\u001b[0m\u001b[0;34m\u001b[0m\u001b[0;34m\u001b[0m\u001b[0m\n\u001b[0m\u001b[1;32m  16818\u001b[0m         \u001b[0mroot\u001b[0m \u001b[0;34m=\u001b[0m \u001b[0mtk\u001b[0m\u001b[0;34m.\u001b[0m\u001b[0mToplevel\u001b[0m\u001b[0;34m(\u001b[0m\u001b[0mclass_\u001b[0m\u001b[0;34m=\u001b[0m\u001b[0mwindow\u001b[0m\u001b[0;34m.\u001b[0m\u001b[0mTitle\u001b[0m\u001b[0;34m)\u001b[0m\u001b[0;34m\u001b[0m\u001b[0;34m\u001b[0m\u001b[0m\n\u001b[1;32m  16819\u001b[0m     \u001b[0;32melse\u001b[0m\u001b[0;34m:\u001b[0m\u001b[0;34m\u001b[0m\u001b[0;34m\u001b[0m\u001b[0m\n",
      "\u001b[0;32m/opt/conda/lib/python3.7/site-packages/PySimpleGUI/PySimpleGUI.py\u001b[0m in \u001b[0;36m_get_hidden_master_root\u001b[0;34m()\u001b[0m\n\u001b[1;32m  16702\u001b[0m     \u001b[0;32mif\u001b[0m \u001b[0mWindow\u001b[0m\u001b[0;34m.\u001b[0m\u001b[0mhidden_master_root\u001b[0m \u001b[0;32mis\u001b[0m \u001b[0;32mNone\u001b[0m\u001b[0;34m:\u001b[0m\u001b[0;34m\u001b[0m\u001b[0;34m\u001b[0m\u001b[0m\n\u001b[1;32m  16703\u001b[0m         \u001b[0mWindow\u001b[0m\u001b[0;34m.\u001b[0m\u001b[0m_IncrementOpenCount\u001b[0m\u001b[0;34m(\u001b[0m\u001b[0;34m)\u001b[0m\u001b[0;34m\u001b[0m\u001b[0;34m\u001b[0m\u001b[0m\n\u001b[0;32m> 16704\u001b[0;31m         \u001b[0mWindow\u001b[0m\u001b[0;34m.\u001b[0m\u001b[0mhidden_master_root\u001b[0m \u001b[0;34m=\u001b[0m \u001b[0mtk\u001b[0m\u001b[0;34m.\u001b[0m\u001b[0mTk\u001b[0m\u001b[0;34m(\u001b[0m\u001b[0;34m)\u001b[0m\u001b[0;34m\u001b[0m\u001b[0;34m\u001b[0m\u001b[0m\n\u001b[0m\u001b[1;32m  16705\u001b[0m         \u001b[0mWindow\u001b[0m\u001b[0;34m.\u001b[0m\u001b[0mhidden_master_root\u001b[0m\u001b[0;34m.\u001b[0m\u001b[0mattributes\u001b[0m\u001b[0;34m(\u001b[0m\u001b[0;34m'-alpha'\u001b[0m\u001b[0;34m,\u001b[0m \u001b[0;36m0\u001b[0m\u001b[0;34m)\u001b[0m  \u001b[0;31m# HIDE this window really really really\u001b[0m\u001b[0;34m\u001b[0m\u001b[0;34m\u001b[0m\u001b[0m\n\u001b[1;32m  16706\u001b[0m         \u001b[0;31m# if not running_mac():\u001b[0m\u001b[0;34m\u001b[0m\u001b[0;34m\u001b[0m\u001b[0;34m\u001b[0m\u001b[0m\n",
      "\u001b[0;32m/opt/conda/lib/python3.7/tkinter/__init__.py\u001b[0m in \u001b[0;36m__init__\u001b[0;34m(self, screenName, baseName, className, useTk, sync, use)\u001b[0m\n\u001b[1;32m   2021\u001b[0m                 \u001b[0mbaseName\u001b[0m \u001b[0;34m=\u001b[0m \u001b[0mbaseName\u001b[0m \u001b[0;34m+\u001b[0m \u001b[0mext\u001b[0m\u001b[0;34m\u001b[0m\u001b[0;34m\u001b[0m\u001b[0m\n\u001b[1;32m   2022\u001b[0m         \u001b[0minteractive\u001b[0m \u001b[0;34m=\u001b[0m \u001b[0;36m0\u001b[0m\u001b[0;34m\u001b[0m\u001b[0;34m\u001b[0m\u001b[0m\n\u001b[0;32m-> 2023\u001b[0;31m         \u001b[0mself\u001b[0m\u001b[0;34m.\u001b[0m\u001b[0mtk\u001b[0m \u001b[0;34m=\u001b[0m \u001b[0m_tkinter\u001b[0m\u001b[0;34m.\u001b[0m\u001b[0mcreate\u001b[0m\u001b[0;34m(\u001b[0m\u001b[0mscreenName\u001b[0m\u001b[0;34m,\u001b[0m \u001b[0mbaseName\u001b[0m\u001b[0;34m,\u001b[0m \u001b[0mclassName\u001b[0m\u001b[0;34m,\u001b[0m \u001b[0minteractive\u001b[0m\u001b[0;34m,\u001b[0m \u001b[0mwantobjects\u001b[0m\u001b[0;34m,\u001b[0m \u001b[0museTk\u001b[0m\u001b[0;34m,\u001b[0m \u001b[0msync\u001b[0m\u001b[0;34m,\u001b[0m \u001b[0muse\u001b[0m\u001b[0;34m)\u001b[0m\u001b[0;34m\u001b[0m\u001b[0;34m\u001b[0m\u001b[0m\n\u001b[0m\u001b[1;32m   2024\u001b[0m         \u001b[0;32mif\u001b[0m \u001b[0museTk\u001b[0m\u001b[0;34m:\u001b[0m\u001b[0;34m\u001b[0m\u001b[0;34m\u001b[0m\u001b[0m\n\u001b[1;32m   2025\u001b[0m             \u001b[0mself\u001b[0m\u001b[0;34m.\u001b[0m\u001b[0m_loadtk\u001b[0m\u001b[0;34m(\u001b[0m\u001b[0;34m)\u001b[0m\u001b[0;34m\u001b[0m\u001b[0;34m\u001b[0m\u001b[0m\n",
      "\u001b[0;31mTclError\u001b[0m: no display name and no $DISPLAY environment variable"
     ]
    }
   ],
   "source": [
    "layout = [[sg.Text('3D Computer Vision', font='Helvetica 20 bold', text_color='black', background_color='white',\n",
    "                   pad=(10, 10))],\n",
    "          [sg.Text('Homework 2', font='Helvetica 14', text_color='black', background_color='white', pad=(10, 10))],\n",
    "          [sg.Button('Filtering', size=(20, 2), button_color=('white', 'black'), pad=(10, 10)),\n",
    "           sg.Button('Upsampling', size=(20, 2), button_color=('white', 'black'), pad=(10, 10)),\n",
    "           sg.Button('Process All Dataset', size=(20, 2), button_color=('white', 'black'), pad=(10, 10))],\n",
    "          [sg.Text('Tarlan Ahadli', justification='right', font='Helvetica 9', text_color='black',\n",
    "                   background_color='white', pad=(10, 50))]]\n",
    "\n",
    "# Create the window\n",
    "main_window = sg.Window('3D Computer Vision Homework 2', layout, margins=(0, 200), size=(1000, 700),\n",
    "                        background_color='white', element_justification='center')\n",
    "\n",
    "# Event loop\n",
    "while True:\n",
    "    event, values = main_window.read()\n",
    "\n",
    "    if event in (sg.WIN_CLOSED, 'Button 1', 'Button 2', 'Button 3'):\n",
    "        break\n",
    "\n",
    "main_window.close()"
   ]
  },
  {
   "cell_type": "code",
   "execution_count": 6,
   "metadata": {
    "collapsed": false,
    "jupyter": {
     "outputs_hidden": false
    }
   },
   "outputs": [],
   "source": [
    "def get_window_layer():\n",
    "    first_column = [\n",
    "        [sg.Button('Get original image', size=(54, 2), pad=((0, 0), (50, 0)))],\n",
    "        [sg.Image(filename='', key='original image', size=(430, 430), background_color='#DDDDDD')],\n",
    "        [sg.InputText(key='mean', size=(30, 1), justification=\"center\", default_text='mean'),\n",
    "         sg.InputText(key='std', size=(30, 1), justification=\"center\", default_text='std')],\n",
    "        [sg.Button('Add Noise', size=(54, 2))],\n",
    "        [sg.Button('Save', size=(54, 2))]\n",
    "    ]\n",
    "\n",
    "    second_column = [\n",
    "        [\n",
    "            sg.InputText(default_text='win size b', key='win size b', size=(20, 1), justification=\"center\",\n",
    "                         pad=((0, 0), (50, 0))),\n",
    "            sg.InputText(default_text='spat sig b', key='spat sig b', size=(20, 1), justification=\"center\",\n",
    "                         pad=((0, 0), (50, 0))),\n",
    "            sg.InputText(default_text='spec sig b', key='spec sig b', size=(20, 1), justification=\"center\",\n",
    "                         pad=((0, 0), (50, 0)))],\n",
    "        [sg.Button(button_text='Bilateral Filtering', key='Bilateral Filtering', size=(56, 2))],\n",
    "\n",
    "        [sg.InputText(default_text='win size jb', key='win size jb', size=(20, 1), justification=\"center\"),\n",
    "         sg.InputText(default_text='spat sig jb', key='spat sig jb', size=(20, 1), justification=\"center\"),\n",
    "         sg.InputText(default_text='spec sig jb', key='spec sig jb', size=(20, 1), justification=\"center\")],\n",
    "        [sg.Button(button_text='Browse Guide Image', key='Guide Image', size=(27, 2)),\n",
    "         sg.Button(button_text='Joint Bilateral', key='Joint Bilateral', size=(27, 2))],\n",
    "        [sg.Text('path' + ''.join([' ' for _ in range(120)]),\n",
    "                 justification='left', font='Helvetica 8', text_color='black', background_color='white',\n",
    "                 key='guide_path_text')],\n",
    "\n",
    "        [sg.Image(filename='', key='filtered_image', size=(430, 430), background_color='#DDDDDD')]\n",
    "    ]\n",
    "\n",
    "    layout = [\n",
    "        [\n",
    "            sg.Column(first_column, justification='center', element_justification='center', background_color='white'),\n",
    "            sg.VSeperator(pad=((0, 0), (50, 0))),\n",
    "            sg.Column(second_column, justification='center', element_justification='center', background_color='white'),\n",
    "        ]\n",
    "    ]\n",
    "\n",
    "    # Create the window\n",
    "    window = sg.Window('Window Title', layout, size=(1000, 700),\n",
    "                       background_color='white',\n",
    "                       element_justification='center',\n",
    "                       button_color=('white', 'black'))\n",
    "\n",
    "    return window"
   ]
  },
  {
   "cell_type": "code",
   "execution_count": 7,
   "metadata": {
    "collapsed": false,
    "jupyter": {
     "outputs_hidden": false
    }
   },
   "outputs": [],
   "source": [
    "\n",
    "\n",
    "warnings.filterwarnings('ignore')\n",
    "\n",
    "window = get_window_layer()\n",
    "event, values = window.read()\n",
    "\n",
    "img_size = 430\n",
    "original_img = None\n",
    "noisy_img = None\n",
    "guide_image_path = None\n",
    "filtered_image_bil = None\n",
    "filtered_image_jon_bil = None\n",
    "jb_tm = -1\n",
    "b_tm = -1\n",
    "\n",
    "while True:\n",
    "    event, values = window.read()\n",
    "\n",
    "    if event == 'Get original image':\n",
    "        file_path = sg.popup_get_file('Choose Image', file_types=((\"JPEG\", \"*.jpg\"), (\"PNG\", \"*.png\")))\n",
    "        image = cv2.imread(file_path)\n",
    "        image = cv2.cvtColor(image, cv2.COLOR_BGR2RGB)\n",
    "        original_img = cv2.resize(image, (img_size, img_size))\n",
    "        window['original image'].update(data=ImageTk.PhotoImage(image=Image.fromarray(original_img)))\n",
    "\n",
    "    if event == 'Add Noise':\n",
    "        if original_img is not None:\n",
    "            m = float(values['mean'])\n",
    "            std = float(values['std'])\n",
    "            gaussian = np.random.normal(m, std, size=original_img.shape)\n",
    "            noisy_img = (original_img + gaussian)\n",
    "            noisy_img = np.clip(noisy_img, 0, 255).astype(np.uint8)\n",
    "            window['original image'].update(data=ImageTk.PhotoImage(image=Image.fromarray(noisy_img)))\n",
    "\n",
    "    if event == 'Bilateral Filtering':\n",
    "        if noisy_img is not None:\n",
    "            win_size = int(values['win size b'])\n",
    "            spat_sig = float(values['spat sig b'])\n",
    "            spec_sig = float(values['spec sig b'])\n",
    "\n",
    "\n",
    "            def t():\n",
    "                global filtered_image_bil, b_tm\n",
    "                print('---------------------------')\n",
    "                print('Bilateral Filtering Started!');\n",
    "                start = timer();\n",
    "                filtered_image_bil = np.stack((\n",
    "                    get_bilateral_output(noisy_img[:, :, 0], spec_sig=spec_sig, spat_sig=spat_sig,\n",
    "                                         window_size=win_size),\n",
    "                    get_bilateral_output(noisy_img[:, :, 1], spec_sig=spec_sig, spat_sig=spat_sig,\n",
    "                                         window_size=win_size),\n",
    "                    get_bilateral_output(noisy_img[:, :, 2], spec_sig=spec_sig, spat_sig=spat_sig,\n",
    "                                         window_size=win_size)),\n",
    "                    axis=2).round()\n",
    "                filtered_image_bil = np.clip(filtered_image_bil, 0, 255).astype(np.uint8)\n",
    "\n",
    "                window['filtered_image'].update(data=ImageTk.PhotoImage(image=Image.fromarray(filtered_image_bil)))\n",
    "                print('---------Finished----------')\n",
    "                b_tm = timer() - start\n",
    "\n",
    "\n",
    "            x = threading.Thread(target=t, args=())\n",
    "            x.start()\n",
    "\n",
    "    if event == 'Guide Image':\n",
    "        guide_image_path = sg.popup_get_file('Choose Image', file_types=((\"JPEG\", \"*.jpg\"), (\"PNG\", \"*.png\")))\n",
    "        window['guide_path_text'].update(guide_image_path)\n",
    "\n",
    "    if event == 'Joint Bilateral':\n",
    "        if noisy_img is not None and guide_image_path is not None:\n",
    "            win_size = int(values['win size jb'])\n",
    "            spat_sig = float(values['spat sig jb'])\n",
    "            spec_sig = float(values['spec sig jb'])\n",
    "\n",
    "\n",
    "            def t():\n",
    "                global filtered_image_jon_bil, jb_tm\n",
    "                print('---------------------------')\n",
    "                print('Joint Bilateral Filtering Started!');\n",
    "                start = timer();\n",
    "                guided_img = cv2.imread(guide_image_path)\n",
    "                guided_img = cv2.cvtColor(guided_img, cv2.COLOR_BGR2GRAY)\n",
    "                guided_img = cv2.resize(guided_img, (img_size, img_size))\n",
    "\n",
    "                filtered_image_jon_bil = np.stack((\n",
    "                    get_joint_bilateral_out(guided_img, noisy_img[:, :, 0], spec_sig=spec_sig, spat_sig=spat_sig,\n",
    "                                            window_size=win_size),\n",
    "                    get_joint_bilateral_out(guided_img, noisy_img[:, :, 1], spec_sig=spec_sig, spat_sig=spat_sig,\n",
    "                                            window_size=win_size),\n",
    "                    get_joint_bilateral_out(guided_img, noisy_img[:, :, 2], spec_sig=spec_sig, spat_sig=spat_sig,\n",
    "                                            window_size=win_size)),\n",
    "                    axis=2).round()\n",
    "                filtered_image_jon_bil = np.clip(filtered_image_jon_bil, 0, 255).astype(np.uint8)\n",
    "                window['filtered_image'].update(data=ImageTk.PhotoImage(image=Image.fromarray(filtered_image_jon_bil)))\n",
    "                print('---------Finished----------')\n",
    "                jb_tm = timer() - start\n",
    "\n",
    "\n",
    "            x = threading.Thread(target=t, args=())\n",
    "            x.start()\n",
    "\n",
    "    if event == 'Save':\n",
    "        print('------Saving Images---------')\n",
    "        new_path = 'files/images/output/' + time.ctime().replace(':', '_')\n",
    "        os.makedirs(new_path)\n",
    "        for img, name in zip([original_img, noisy_img, filtered_image_bil, filtered_image_jon_bil],\n",
    "                             ['original', 'noizy', 'filtered_bil', 'filtered_biljon']):\n",
    "            if img is not None:\n",
    "                cv2.imwrite(new_path + '/' + name + '.png', img)\n",
    "\n",
    "                np.savetxt(new_path + '/' + 'filtering_time_log.txt',\n",
    "                           X=np.array([['B Filtering', str(np.round(b_tm).astype(int))],\n",
    "                                       ['JB Filtering', str(np.round(jb_tm).astype(int))]]).astype(object),\n",
    "                           delimiter=' ',\n",
    "                           fmt='%s')\n",
    "\n",
    "        print('--------Saved----------------')\n",
    "\n",
    "    if event == sg.WIN_CLOSED:\n",
    "        break\n",
    "\n",
    "window.close()"
   ]
  },
  {
   "cell_type": "markdown",
   "metadata": {},
   "source": [
    "# Evaluation of algorithms"
   ]
  },
  {
   "cell_type": "code",
   "execution_count": 14,
   "metadata": {},
   "outputs": [],
   "source": [
    "img_size = 200\n",
    "\n",
    "i = 1\n",
    "\n",
    "file_path = 'files/images/input/{}/ground.png'.format(i)\n",
    "img = cv2.cvtColor(cv2.imread(file_path), cv2.COLOR_BGR2GRAY)\n",
    "img = cv2.resize(img,(img_size, img_size))"
   ]
  },
  {
   "cell_type": "code",
   "execution_count": 16,
   "metadata": {},
   "outputs": [
    {
     "data": {
      "text/plain": [
       "<matplotlib.image.AxesImage at 0x7f9bb0c8ef90>"
      ]
     },
     "execution_count": 16,
     "metadata": {},
     "output_type": "execute_result"
    },
    {
     "data": {
      "image/png": "[encoded data removed]",
      "text/plain": [
       "<Figure size 640x480 with 1 Axes>"
      ]
     },
     "metadata": {},
     "output_type": "display_data"
    }
   ],
   "source": [
    "plt.imshow(img,cmap = 'gray')"
   ]
  },
  {
   "cell_type": "code",
   "execution_count": 18,
   "metadata": {},
   "outputs": [
    {
     "data": {
      "text/plain": [
       "<module 'filters' from '/home/jupyter/Instrument/3DComputerVision/HW2/filters.py'>"
      ]
     },
     "execution_count": 18,
     "metadata": {},
     "output_type": "execute_result"
    }
   ],
   "source": [
    "flt.get_bilateral_output("
   ]
  },
  {
   "cell_type": "code",
   "execution_count": null,
   "metadata": {},
   "outputs": [],
   "source": []
  },
  {
   "cell_type": "code",
   "execution_count": null,
   "metadata": {},
   "outputs": [],
   "source": []
  },
  {
   "cell_type": "code",
   "execution_count": null,
   "metadata": {},
   "outputs": [],
   "source": []
  },
  {
   "cell_type": "code",
   "execution_count": null,
   "metadata": {},
   "outputs": [],
   "source": []
  },
  {
   "cell_type": "code",
   "execution_count": 9,
   "metadata": {
    "collapsed": false,
    "jupyter": {
     "outputs_hidden": false
    }
   },
   "outputs": [],
   "source": [
    "def get_upsampled_image(name, filtering_func, low_depth_image_path, hi_depth_image_path, original_rgb_path,\n",
    "                        w_size=5, spat_sig=8, spec_sig=2, get_metric=False):\n",
    "    low_depth_image = cv2.cvtColor(cv2.imread(low_depth_image_path), cv2.COLOR_BGR2RGB)\n",
    "    hi_depth_image = cv2.cvtColor(cv2.imread(hi_depth_image_path), cv2.COLOR_BGR2RGB)\n",
    "    original_rgb = cv2.cvtColor(cv2.imread(original_rgb_path), cv2.COLOR_BGR2RGB)\n",
    "\n",
    "    start = timer()\n",
    "    up_image = np.stack((\n",
    "        filtering_func(original_rgb[:, :, 0], low_depth_image[:, :, 0], w_size, spat_sig, spec_sig),\n",
    "        filtering_func(original_rgb[:, :, 1], low_depth_image[:, :, 1], w_size, spat_sig, spec_sig),\n",
    "        filtering_func(original_rgb[:, :, 2], low_depth_image[:, :, 2], w_size, spat_sig, spec_sig)),\n",
    "        axis=2).round()\n",
    "    up_image = np.clip(up_image, 0, 255).astype(np.uint8)\n",
    "\n",
    "    log = []\n",
    "    log.append([name, '----'])\n",
    "    log.append(['time', timer() - start])\n",
    "    for mx_name, func in zip(['ssd ', 'mse ', 'psnr', 'corr', 'ssim'], [mx.ssd, mx.mse, mx.psnr, mx.corr, mx.ssim]):\n",
    "        h_a = int((hi_depth_image.shape[0] - up_image.shape[0]) / 2)\n",
    "        h_b = hi_depth_image.shape[0] - up_image.shape[0] - h_a\n",
    "\n",
    "        w_a = int((hi_depth_image.shape[1] - up_image.shape[1]) / 2)\n",
    "        w_b = hi_depth_image.shape[1] - up_image.shape[1] - w_a\n",
    "\n",
    "        log.append([mx_name, str(func(hi_depth_image[h_a:-h_b, w_a:-w_b, :], up_image))])\n",
    "\n",
    "    if get_metric:\n",
    "        return up_image, log\n",
    "    return up_image"
   ]
  },
  {
   "cell_type": "code",
   "execution_count": 99,
   "metadata": {
    "collapsed": false,
    "jupyter": {
     "outputs_hidden": false
    }
   },
   "outputs": [
    {
     "name": "stdout",
     "output_type": "stream",
     "text": [
      "Joint Ups files/images/input/1/low_disp_ground.png\n",
      "Iterative Ups files/images/input/1/low_disp_ground.png\n",
      "Joint Ups files/images/input/2/low_disp_ground.png\n",
      "Iterative Ups files/images/input/2/low_disp_ground.png\n",
      "Joint Ups files/images/input/3/low_disp_ground.png\n",
      "Iterative Ups files/images/input/3/low_disp_ground.png\n",
      "Joint Ups files/images/input/4/low_disp_ground.png\n",
      "Iterative Ups files/images/input/4/low_disp_ground.png\n",
      "Joint Ups files/images/input/5/low_disp_ground.png\n",
      "Iterative Ups files/images/input/5/low_disp_ground.png\n",
      "Joint Ups files/images/input/6/low_disp_ground.png\n",
      "Iterative Ups files/images/input/6/low_disp_ground.png\n",
      "Joint Ups files/images/input/7/low_disp_ground.png\n",
      "Iterative Ups files/images/input/7/low_disp_ground.png\n",
      "Joint Ups files/images/input/8/low_disp_ground.png\n",
      "Iterative Ups files/images/input/8/low_disp_ground.png\n",
      "Joint Ups files/images/input/9/low_disp_ground.png\n",
      "Iterative Ups files/images/input/9/low_disp_ground.png\n",
      "Joint Ups files/images/input/10/low_disp_ground.png\n",
      "Iterative Ups files/images/input/10/low_disp_ground.png\n",
      "Joint Ups files/images/input/11/low_disp_ground.png\n",
      "Iterative Ups files/images/input/11/low_disp_ground.png\n",
      "Joint Ups files/images/input/12/low_disp_ground.png\n",
      "Iterative Ups files/images/input/12/low_disp_ground.png\n",
      "Joint Ups files/images/input/13/low_disp_ground.png\n",
      "Iterative Ups files/images/input/13/low_disp_ground.png\n"
     ]
    }
   ],
   "source": [
    "for current_folder in range(1, 14):\n",
    "    '''\n",
    "    new_path = 'files/images/output/' + str(current_folder)\n",
    "    if not os.path.exists(new_path):\n",
    "        os.makedirs(new_path)\n",
    "    else:\n",
    "        shutil.rmtree(new_path)\n",
    "        os.makedirs(new_path)\n",
    "    '''\n",
    "    whole_log = [['-----', '-----']]\n",
    "    for filtering_func, name in zip([get_joint_upsampling_out, get_iterative_upsampling_out],\n",
    "                                    ['Joint Ups', 'Iterative Ups']):\n",
    "        low_depth_image_path = 'files/images/input/{0}/low_disp_ground.png'.format(current_folder)\n",
    "        hi_depth_image_path = 'files/images/input/{0}/ground.png'.format(current_folder)\n",
    "        original_rgb_path = 'files/images/input/{0}/view0.png'.format(current_folder)\n",
    "        print(name, low_depth_image_path)\n",
    "\n",
    "        up_image, log = get_upsampled_image(name, filtering_func, low_depth_image_path, hi_depth_image_path,\n",
    "                                            original_rgb_path,\n",
    "                                            get_metric=True)\n",
    "\n",
    "        whole_log = np.concatenate((whole_log, log)).tolist()\n",
    "        whole_log.append(['----', '-----'])\n",
    "        print(np.array(whole_log))\n",
    "\n",
    "        cv2.imwrite(new_path + '/' + name + '_out.png', up_image)\n",
    "        np.savetxt(new_path + '/' + 'log.txt',\n",
    "                   X=whole_log[1:], delimiter=' ',\n",
    "                   fmt='%s')\n",
    "\n",
    "        #up_image = cv2.cvtColor(cv2.imread('files/images/output/{}'.format(current_folder) + '/' + name + '_out.png'),\n",
    "        #                       cv2.COLOR_BGR2RGB)\n",
    "\n",
    "        all_points = disp.project_disparity_to_3d(cv2.cvtColor(up_image, cv2.COLOR_RGB2GRAY))\n",
    "        all_norms = disp.project_disparity_to_3d_norm(cv2.cvtColor(up_image, cv2.COLOR_RGB2GRAY))\n",
    "        s = 'ply\\n\\\n",
    "            format ascii 1.0\\n\\\n",
    "            element vertex {0}\\n\\\n",
    "            property float x\\n\\\n",
    "            property float y\\n\\\n",
    "            property float z\\n\\\n",
    "            property float nx\\n\\\n",
    "            property float ny\\n\\\n",
    "            property float nz\\nend_header\\n'.format(len(all_points))\n",
    "\n",
    "        for p, n in zip(all_points, all_norms):\n",
    "            s += ' '.join([\"{:0.14f}\".format(x) for x in p + n]) + '\\n'\n",
    "\n",
    "        with open('files/images/output/{0}/{1}_points_norm.ply'.format(current_folder, name), 'w') as the_file:\n",
    "            the_file.write(s)"
   ]
  },
  {
   "cell_type": "code",
   "execution_count": null,
   "metadata": {
    "collapsed": false,
    "jupyter": {
     "outputs_hidden": false
    }
   },
   "outputs": [],
   "source": []
  }
 ],
 "metadata": {
  "environment": {
   "kernel": "python3",
   "name": "tf2-gpu.2-10.m100",
   "type": "gcloud",
   "uri": "gcr.io/deeplearning-platform-release/tf2-gpu.2-10:m100"
  },
  "kernelspec": {
   "display_name": "Python 3 (ipykernel)",
   "language": "python",
   "name": "python3"
  },
  "language_info": {
   "codemirror_mode": {
    "name": "ipython",
    "version": 3
   },
   "file_extension": ".py",
   "mimetype": "text/x-python",
   "name": "python",
   "nbconvert_exporter": "python",
   "pygments_lexer": "ipython3",
   "version": "3.7.12"
  }
 },
 "nbformat": 4,
 "nbformat_minor": 4
}
